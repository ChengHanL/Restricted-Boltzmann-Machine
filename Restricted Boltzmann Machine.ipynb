{
 "cells": [
  {
   "cell_type": "markdown",
   "id": "0937a44b",
   "metadata": {},
   "source": [
    "# Restricted Boltzmann Machine \n",
    "\n",
    "## RBM is a 2 layered artificial neural network with generative capabilities. They can learn a probability distribution over its set of input. "
   ]
  },
  {
   "cell_type": "code",
   "execution_count": 1,
   "id": "d372a4b1",
   "metadata": {},
   "outputs": [],
   "source": [
    "import opendatasets as od\n",
    "import pandas as pd\n",
    "from sklearn.preprocessing import OrdinalEncoder\n",
    "from sklearn.model_selection import train_test_split\n",
    "from sklearn.neural_network import BernoulliRBM\n",
    "from sklearn import linear_model, metrics\n",
    "from sklearn.pipeline import Pipeline\n",
    "from sklearn.base import clone\n",
    "from sklearn.metrics import f1_score"
   ]
  },
  {
   "cell_type": "code",
   "execution_count": 2,
   "id": "578fd078",
   "metadata": {},
   "outputs": [
    {
     "name": "stdout",
     "output_type": "stream",
     "text": [
      "Skipping, found downloaded files in \".\\usedcarscatalog\" (use force=True to force download)\n"
     ]
    }
   ],
   "source": [
    "od.download(\"https://www.kaggle.com/lepchenkov/usedcarscatalog\")"
   ]
  },
  {
   "cell_type": "code",
   "execution_count": 3,
   "id": "455832bb",
   "metadata": {},
   "outputs": [
    {
     "name": "stdout",
     "output_type": "stream",
     "text": [
      "<class 'pandas.core.frame.DataFrame'>\n",
      "RangeIndex: 38531 entries, 0 to 38530\n",
      "Data columns (total 30 columns):\n",
      " #   Column             Non-Null Count  Dtype  \n",
      "---  ------             --------------  -----  \n",
      " 0   manufacturer_name  38531 non-null  object \n",
      " 1   model_name         38531 non-null  object \n",
      " 2   transmission       38531 non-null  object \n",
      " 3   color              38531 non-null  object \n",
      " 4   odometer_value     38531 non-null  int64  \n",
      " 5   year_produced      38531 non-null  int64  \n",
      " 6   engine_fuel        38531 non-null  object \n",
      " 7   engine_has_gas     38531 non-null  bool   \n",
      " 8   engine_type        38531 non-null  object \n",
      " 9   engine_capacity    38521 non-null  float64\n",
      " 10  body_type          38531 non-null  object \n",
      " 11  has_warranty       38531 non-null  bool   \n",
      " 12  state              38531 non-null  object \n",
      " 13  drivetrain         38531 non-null  object \n",
      " 14  price_usd          38531 non-null  float64\n",
      " 15  is_exchangeable    38531 non-null  bool   \n",
      " 16  location_region    38531 non-null  object \n",
      " 17  number_of_photos   38531 non-null  int64  \n",
      " 18  up_counter         38531 non-null  int64  \n",
      " 19  feature_0          38531 non-null  bool   \n",
      " 20  feature_1          38531 non-null  bool   \n",
      " 21  feature_2          38531 non-null  bool   \n",
      " 22  feature_3          38531 non-null  bool   \n",
      " 23  feature_4          38531 non-null  bool   \n",
      " 24  feature_5          38531 non-null  bool   \n",
      " 25  feature_6          38531 non-null  bool   \n",
      " 26  feature_7          38531 non-null  bool   \n",
      " 27  feature_8          38531 non-null  bool   \n",
      " 28  feature_9          38531 non-null  bool   \n",
      " 29  duration_listed    38531 non-null  int64  \n",
      "dtypes: bool(13), float64(2), int64(5), object(10)\n",
      "memory usage: 5.5+ MB\n"
     ]
    }
   ],
   "source": [
    "csv_file = \"./usedcarscatalog/cars.csv\"\n",
    "df_from_csv = pd.read_csv(csv_file)\n",
    "df_from_csv.info()"
   ]
  },
  {
   "cell_type": "code",
   "execution_count": 4,
   "id": "4e90f7cb",
   "metadata": {},
   "outputs": [
    {
     "data": {
      "text/html": [
       "<div>\n",
       "<style scoped>\n",
       "    .dataframe tbody tr th:only-of-type {\n",
       "        vertical-align: middle;\n",
       "    }\n",
       "\n",
       "    .dataframe tbody tr th {\n",
       "        vertical-align: top;\n",
       "    }\n",
       "\n",
       "    .dataframe thead th {\n",
       "        text-align: right;\n",
       "    }\n",
       "</style>\n",
       "<table border=\"1\" class=\"dataframe\">\n",
       "  <thead>\n",
       "    <tr style=\"text-align: right;\">\n",
       "      <th></th>\n",
       "      <th>manufacturer_name</th>\n",
       "      <th>model_name</th>\n",
       "      <th>transmission</th>\n",
       "      <th>color</th>\n",
       "      <th>odometer_value</th>\n",
       "      <th>year_produced</th>\n",
       "      <th>engine_fuel</th>\n",
       "      <th>engine_has_gas</th>\n",
       "      <th>engine_type</th>\n",
       "      <th>engine_capacity</th>\n",
       "      <th>...</th>\n",
       "      <th>feature_1</th>\n",
       "      <th>feature_2</th>\n",
       "      <th>feature_3</th>\n",
       "      <th>feature_4</th>\n",
       "      <th>feature_5</th>\n",
       "      <th>feature_6</th>\n",
       "      <th>feature_7</th>\n",
       "      <th>feature_8</th>\n",
       "      <th>feature_9</th>\n",
       "      <th>duration_listed</th>\n",
       "    </tr>\n",
       "  </thead>\n",
       "  <tbody>\n",
       "    <tr>\n",
       "      <th>0</th>\n",
       "      <td>Subaru</td>\n",
       "      <td>Outback</td>\n",
       "      <td>automatic</td>\n",
       "      <td>silver</td>\n",
       "      <td>190000</td>\n",
       "      <td>2010</td>\n",
       "      <td>gasoline</td>\n",
       "      <td>False</td>\n",
       "      <td>gasoline</td>\n",
       "      <td>2.5</td>\n",
       "      <td>...</td>\n",
       "      <td>True</td>\n",
       "      <td>True</td>\n",
       "      <td>True</td>\n",
       "      <td>False</td>\n",
       "      <td>True</td>\n",
       "      <td>False</td>\n",
       "      <td>True</td>\n",
       "      <td>True</td>\n",
       "      <td>True</td>\n",
       "      <td>16</td>\n",
       "    </tr>\n",
       "    <tr>\n",
       "      <th>1</th>\n",
       "      <td>Subaru</td>\n",
       "      <td>Outback</td>\n",
       "      <td>automatic</td>\n",
       "      <td>blue</td>\n",
       "      <td>290000</td>\n",
       "      <td>2002</td>\n",
       "      <td>gasoline</td>\n",
       "      <td>False</td>\n",
       "      <td>gasoline</td>\n",
       "      <td>3.0</td>\n",
       "      <td>...</td>\n",
       "      <td>True</td>\n",
       "      <td>False</td>\n",
       "      <td>False</td>\n",
       "      <td>True</td>\n",
       "      <td>True</td>\n",
       "      <td>False</td>\n",
       "      <td>False</td>\n",
       "      <td>False</td>\n",
       "      <td>True</td>\n",
       "      <td>83</td>\n",
       "    </tr>\n",
       "    <tr>\n",
       "      <th>2</th>\n",
       "      <td>Subaru</td>\n",
       "      <td>Forester</td>\n",
       "      <td>automatic</td>\n",
       "      <td>red</td>\n",
       "      <td>402000</td>\n",
       "      <td>2001</td>\n",
       "      <td>gasoline</td>\n",
       "      <td>False</td>\n",
       "      <td>gasoline</td>\n",
       "      <td>2.5</td>\n",
       "      <td>...</td>\n",
       "      <td>True</td>\n",
       "      <td>False</td>\n",
       "      <td>False</td>\n",
       "      <td>False</td>\n",
       "      <td>False</td>\n",
       "      <td>False</td>\n",
       "      <td>False</td>\n",
       "      <td>True</td>\n",
       "      <td>True</td>\n",
       "      <td>151</td>\n",
       "    </tr>\n",
       "    <tr>\n",
       "      <th>3</th>\n",
       "      <td>Subaru</td>\n",
       "      <td>Impreza</td>\n",
       "      <td>mechanical</td>\n",
       "      <td>blue</td>\n",
       "      <td>10000</td>\n",
       "      <td>1999</td>\n",
       "      <td>gasoline</td>\n",
       "      <td>False</td>\n",
       "      <td>gasoline</td>\n",
       "      <td>3.0</td>\n",
       "      <td>...</td>\n",
       "      <td>False</td>\n",
       "      <td>False</td>\n",
       "      <td>False</td>\n",
       "      <td>False</td>\n",
       "      <td>False</td>\n",
       "      <td>False</td>\n",
       "      <td>False</td>\n",
       "      <td>False</td>\n",
       "      <td>False</td>\n",
       "      <td>86</td>\n",
       "    </tr>\n",
       "    <tr>\n",
       "      <th>4</th>\n",
       "      <td>Subaru</td>\n",
       "      <td>Legacy</td>\n",
       "      <td>automatic</td>\n",
       "      <td>black</td>\n",
       "      <td>280000</td>\n",
       "      <td>2001</td>\n",
       "      <td>gasoline</td>\n",
       "      <td>False</td>\n",
       "      <td>gasoline</td>\n",
       "      <td>2.5</td>\n",
       "      <td>...</td>\n",
       "      <td>True</td>\n",
       "      <td>False</td>\n",
       "      <td>True</td>\n",
       "      <td>True</td>\n",
       "      <td>False</td>\n",
       "      <td>False</td>\n",
       "      <td>False</td>\n",
       "      <td>False</td>\n",
       "      <td>True</td>\n",
       "      <td>7</td>\n",
       "    </tr>\n",
       "  </tbody>\n",
       "</table>\n",
       "<p>5 rows × 30 columns</p>\n",
       "</div>"
      ],
      "text/plain": [
       "  manufacturer_name model_name transmission   color  odometer_value  \\\n",
       "0            Subaru    Outback    automatic  silver          190000   \n",
       "1            Subaru    Outback    automatic    blue          290000   \n",
       "2            Subaru   Forester    automatic     red          402000   \n",
       "3            Subaru    Impreza   mechanical    blue           10000   \n",
       "4            Subaru     Legacy    automatic   black          280000   \n",
       "\n",
       "   year_produced engine_fuel  engine_has_gas engine_type  engine_capacity  \\\n",
       "0           2010    gasoline           False    gasoline              2.5   \n",
       "1           2002    gasoline           False    gasoline              3.0   \n",
       "2           2001    gasoline           False    gasoline              2.5   \n",
       "3           1999    gasoline           False    gasoline              3.0   \n",
       "4           2001    gasoline           False    gasoline              2.5   \n",
       "\n",
       "   ... feature_1  feature_2 feature_3 feature_4  feature_5  feature_6  \\\n",
       "0  ...      True       True      True     False       True      False   \n",
       "1  ...      True      False     False      True       True      False   \n",
       "2  ...      True      False     False     False      False      False   \n",
       "3  ...     False      False     False     False      False      False   \n",
       "4  ...      True      False      True      True      False      False   \n",
       "\n",
       "  feature_7  feature_8  feature_9  duration_listed  \n",
       "0      True       True       True               16  \n",
       "1     False      False       True               83  \n",
       "2     False       True       True              151  \n",
       "3     False      False      False               86  \n",
       "4     False      False       True                7  \n",
       "\n",
       "[5 rows x 30 columns]"
      ]
     },
     "execution_count": 4,
     "metadata": {},
     "output_type": "execute_result"
    }
   ],
   "source": [
    "df = df_from_csv\n",
    "df.head()"
   ]
  },
  {
   "cell_type": "code",
   "execution_count": 5,
   "id": "95cf7efa",
   "metadata": {},
   "outputs": [
    {
     "data": {
      "text/html": [
       "<div>\n",
       "<style scoped>\n",
       "    .dataframe tbody tr th:only-of-type {\n",
       "        vertical-align: middle;\n",
       "    }\n",
       "\n",
       "    .dataframe tbody tr th {\n",
       "        vertical-align: top;\n",
       "    }\n",
       "\n",
       "    .dataframe thead th {\n",
       "        text-align: right;\n",
       "    }\n",
       "</style>\n",
       "<table border=\"1\" class=\"dataframe\">\n",
       "  <thead>\n",
       "    <tr style=\"text-align: right;\">\n",
       "      <th></th>\n",
       "      <th>feature_0</th>\n",
       "      <th>feature_1</th>\n",
       "      <th>feature_2</th>\n",
       "      <th>feature_3</th>\n",
       "      <th>feature_4</th>\n",
       "      <th>feature_5</th>\n",
       "      <th>feature_6</th>\n",
       "      <th>feature_7</th>\n",
       "      <th>feature_8</th>\n",
       "      <th>feature_9</th>\n",
       "    </tr>\n",
       "  </thead>\n",
       "  <tbody>\n",
       "    <tr>\n",
       "      <th>0</th>\n",
       "      <td>False</td>\n",
       "      <td>True</td>\n",
       "      <td>True</td>\n",
       "      <td>True</td>\n",
       "      <td>False</td>\n",
       "      <td>True</td>\n",
       "      <td>False</td>\n",
       "      <td>True</td>\n",
       "      <td>True</td>\n",
       "      <td>True</td>\n",
       "    </tr>\n",
       "    <tr>\n",
       "      <th>1</th>\n",
       "      <td>False</td>\n",
       "      <td>True</td>\n",
       "      <td>False</td>\n",
       "      <td>False</td>\n",
       "      <td>True</td>\n",
       "      <td>True</td>\n",
       "      <td>False</td>\n",
       "      <td>False</td>\n",
       "      <td>False</td>\n",
       "      <td>True</td>\n",
       "    </tr>\n",
       "    <tr>\n",
       "      <th>2</th>\n",
       "      <td>False</td>\n",
       "      <td>True</td>\n",
       "      <td>False</td>\n",
       "      <td>False</td>\n",
       "      <td>False</td>\n",
       "      <td>False</td>\n",
       "      <td>False</td>\n",
       "      <td>False</td>\n",
       "      <td>True</td>\n",
       "      <td>True</td>\n",
       "    </tr>\n",
       "    <tr>\n",
       "      <th>3</th>\n",
       "      <td>True</td>\n",
       "      <td>False</td>\n",
       "      <td>False</td>\n",
       "      <td>False</td>\n",
       "      <td>False</td>\n",
       "      <td>False</td>\n",
       "      <td>False</td>\n",
       "      <td>False</td>\n",
       "      <td>False</td>\n",
       "      <td>False</td>\n",
       "    </tr>\n",
       "    <tr>\n",
       "      <th>4</th>\n",
       "      <td>False</td>\n",
       "      <td>True</td>\n",
       "      <td>False</td>\n",
       "      <td>True</td>\n",
       "      <td>True</td>\n",
       "      <td>False</td>\n",
       "      <td>False</td>\n",
       "      <td>False</td>\n",
       "      <td>False</td>\n",
       "      <td>True</td>\n",
       "    </tr>\n",
       "    <tr>\n",
       "      <th>...</th>\n",
       "      <td>...</td>\n",
       "      <td>...</td>\n",
       "      <td>...</td>\n",
       "      <td>...</td>\n",
       "      <td>...</td>\n",
       "      <td>...</td>\n",
       "      <td>...</td>\n",
       "      <td>...</td>\n",
       "      <td>...</td>\n",
       "      <td>...</td>\n",
       "    </tr>\n",
       "    <tr>\n",
       "      <th>38526</th>\n",
       "      <td>False</td>\n",
       "      <td>True</td>\n",
       "      <td>False</td>\n",
       "      <td>False</td>\n",
       "      <td>True</td>\n",
       "      <td>True</td>\n",
       "      <td>False</td>\n",
       "      <td>False</td>\n",
       "      <td>True</td>\n",
       "      <td>True</td>\n",
       "    </tr>\n",
       "    <tr>\n",
       "      <th>38527</th>\n",
       "      <td>False</td>\n",
       "      <td>True</td>\n",
       "      <td>False</td>\n",
       "      <td>False</td>\n",
       "      <td>True</td>\n",
       "      <td>True</td>\n",
       "      <td>False</td>\n",
       "      <td>False</td>\n",
       "      <td>True</td>\n",
       "      <td>True</td>\n",
       "    </tr>\n",
       "    <tr>\n",
       "      <th>38528</th>\n",
       "      <td>False</td>\n",
       "      <td>True</td>\n",
       "      <td>False</td>\n",
       "      <td>False</td>\n",
       "      <td>True</td>\n",
       "      <td>True</td>\n",
       "      <td>False</td>\n",
       "      <td>False</td>\n",
       "      <td>True</td>\n",
       "      <td>True</td>\n",
       "    </tr>\n",
       "    <tr>\n",
       "      <th>38529</th>\n",
       "      <td>False</td>\n",
       "      <td>True</td>\n",
       "      <td>False</td>\n",
       "      <td>False</td>\n",
       "      <td>False</td>\n",
       "      <td>False</td>\n",
       "      <td>False</td>\n",
       "      <td>False</td>\n",
       "      <td>False</td>\n",
       "      <td>True</td>\n",
       "    </tr>\n",
       "    <tr>\n",
       "      <th>38530</th>\n",
       "      <td>False</td>\n",
       "      <td>False</td>\n",
       "      <td>False</td>\n",
       "      <td>False</td>\n",
       "      <td>False</td>\n",
       "      <td>False</td>\n",
       "      <td>False</td>\n",
       "      <td>False</td>\n",
       "      <td>False</td>\n",
       "      <td>True</td>\n",
       "    </tr>\n",
       "  </tbody>\n",
       "</table>\n",
       "<p>38531 rows × 10 columns</p>\n",
       "</div>"
      ],
      "text/plain": [
       "       feature_0  feature_1  feature_2  feature_3  feature_4  feature_5  \\\n",
       "0          False       True       True       True      False       True   \n",
       "1          False       True      False      False       True       True   \n",
       "2          False       True      False      False      False      False   \n",
       "3           True      False      False      False      False      False   \n",
       "4          False       True      False       True       True      False   \n",
       "...          ...        ...        ...        ...        ...        ...   \n",
       "38526      False       True      False      False       True       True   \n",
       "38527      False       True      False      False       True       True   \n",
       "38528      False       True      False      False       True       True   \n",
       "38529      False       True      False      False      False      False   \n",
       "38530      False      False      False      False      False      False   \n",
       "\n",
       "       feature_6  feature_7  feature_8  feature_9  \n",
       "0          False       True       True       True  \n",
       "1          False      False      False       True  \n",
       "2          False      False       True       True  \n",
       "3          False      False      False      False  \n",
       "4          False      False      False       True  \n",
       "...          ...        ...        ...        ...  \n",
       "38526      False      False       True       True  \n",
       "38527      False      False       True       True  \n",
       "38528      False      False       True       True  \n",
       "38529      False      False      False       True  \n",
       "38530      False      False      False       True  \n",
       "\n",
       "[38531 rows x 10 columns]"
      ]
     },
     "execution_count": 5,
     "metadata": {},
     "output_type": "execute_result"
    }
   ],
   "source": [
    "df_x = df[[\"feature_0\",\"feature_1\",\"feature_2\",\"feature_3\",\"feature_4\",\"feature_5\",\"feature_6\",\"feature_7\",\"feature_8\",\"feature_9\"]]\n",
    "df_x"
   ]
  },
  {
   "cell_type": "code",
   "execution_count": 6,
   "id": "d2fa9d70",
   "metadata": {},
   "outputs": [
    {
     "data": {
      "text/plain": [
       "0          Subaru\n",
       "1          Subaru\n",
       "2          Subaru\n",
       "3          Subaru\n",
       "4          Subaru\n",
       "           ...   \n",
       "38526    Chrysler\n",
       "38527    Chrysler\n",
       "38528    Chrysler\n",
       "38529    Chrysler\n",
       "38530    Chrysler\n",
       "Name: manufacturer_name, Length: 38531, dtype: object"
      ]
     },
     "execution_count": 6,
     "metadata": {},
     "output_type": "execute_result"
    }
   ],
   "source": [
    "df_y = df[\"manufacturer_name\"]\n",
    "df_y"
   ]
  },
  {
   "cell_type": "code",
   "execution_count": 7,
   "id": "2b59b342",
   "metadata": {},
   "outputs": [
    {
     "data": {
      "text/plain": [
       "(38531, 10)"
      ]
     },
     "execution_count": 7,
     "metadata": {},
     "output_type": "execute_result"
    }
   ],
   "source": [
    "oe = OrdinalEncoder()\n",
    "oe.fit(df_x)\n",
    "X_enc = oe.transform(df_x)\n",
    "X_enc.shape"
   ]
  },
  {
   "cell_type": "code",
   "execution_count": 8,
   "id": "7ba1a306",
   "metadata": {},
   "outputs": [
    {
     "data": {
      "text/plain": [
       "(38531, 1)"
      ]
     },
     "execution_count": 8,
     "metadata": {},
     "output_type": "execute_result"
    }
   ],
   "source": [
    "df_y = df_y.values.reshape(-1,1)\n",
    "oe.fit(df_y)\n",
    "Y_enc = oe.transform(df_y)\n",
    "Y_decoded = oe.inverse_transform(Y_enc)\n",
    "Y_decoded.shape"
   ]
  },
  {
   "cell_type": "code",
   "execution_count": 9,
   "id": "ca026e3d",
   "metadata": {},
   "outputs": [],
   "source": [
    "X_train, X_test, Y_train, Y_test = train_test_split(X_enc, Y_decoded, test_size = 0.2)"
   ]
  },
  {
   "cell_type": "code",
   "execution_count": 10,
   "id": "14bac5b6",
   "metadata": {},
   "outputs": [],
   "source": [
    "logistic = linear_model.LogisticRegression(solver = \"lbfgs\", tol = 1, C = 1.0, class_weight = None, dual = False, fit_intercept = True, intercept_scaling = 1, l1_ratio = None, max_iter = 100, multi_class = 'multinomial', n_jobs = None, penalty = 'l2', random_state = None, warm_start = True)\n",
    "rbm = BernoulliRBM(random_state = 0, verbose = False, learning_rate = 50, n_iter = 20, n_components = 1000, batch_size = 10)\n",
    "rbm_features_classifier = Pipeline(steps = [(\"rbm\",rbm),(\"logistic\",logistic)])"
   ]
  },
  {
   "cell_type": "code",
   "execution_count": 11,
   "id": "6234ad82",
   "metadata": {},
   "outputs": [
    {
     "name": "stderr",
     "output_type": "stream",
     "text": [
      "C:\\Users\\z004ek3a\\Anaconda3\\envs\\tensorflow\\lib\\site-packages\\sklearn\\utils\\validation.py:993: DataConversionWarning: A column-vector y was passed when a 1d array was expected. Please change the shape of y to (n_samples, ), for example using ravel().\n",
      "  y = column_or_1d(y, warn=True)\n"
     ]
    },
    {
     "data": {
      "text/plain": [
       "Pipeline(steps=[('rbm',\n",
       "                 BernoulliRBM(learning_rate=50, n_components=1000, n_iter=20,\n",
       "                              random_state=0, verbose=False)),\n",
       "                ('logistic',\n",
       "                 LogisticRegression(multi_class='multinomial', tol=1,\n",
       "                                    warm_start=True))])"
      ]
     },
     "execution_count": 11,
     "metadata": {},
     "output_type": "execute_result"
    }
   ],
   "source": [
    "rbm_features_classifier.fit(X_train, Y_train)"
   ]
  },
  {
   "cell_type": "code",
   "execution_count": 12,
   "id": "14d8ff9e",
   "metadata": {},
   "outputs": [
    {
     "name": "stderr",
     "output_type": "stream",
     "text": [
      "C:\\Users\\z004ek3a\\Anaconda3\\envs\\tensorflow\\lib\\site-packages\\sklearn\\utils\\validation.py:993: DataConversionWarning: A column-vector y was passed when a 1d array was expected. Please change the shape of y to (n_samples, ), for example using ravel().\n",
      "  y = column_or_1d(y, warn=True)\n",
      "C:\\Users\\z004ek3a\\Anaconda3\\envs\\tensorflow\\lib\\site-packages\\sklearn\\linear_model\\_logistic.py:818: ConvergenceWarning: lbfgs failed to converge (status=1):\n",
      "STOP: TOTAL NO. of ITERATIONS REACHED LIMIT.\n",
      "\n",
      "Increase the number of iterations (max_iter) or scale the data as shown in:\n",
      "    https://scikit-learn.org/stable/modules/preprocessing.html\n",
      "Please also refer to the documentation for alternative solver options:\n",
      "    https://scikit-learn.org/stable/modules/linear_model.html#logistic-regression\n",
      "  extra_warning_msg=_LOGISTIC_SOLVER_CONVERGENCE_MSG,\n"
     ]
    },
    {
     "data": {
      "text/plain": [
       "LogisticRegression(C=700, multi_class='multinomial', tol=1, warm_start=True)"
      ]
     },
     "execution_count": 12,
     "metadata": {},
     "output_type": "execute_result"
    }
   ],
   "source": [
    "raw_pixel_classifier = clone(logistic)\n",
    "raw_pixel_classifier.C = 700\n",
    "raw_pixel_classifier.fit(X_train, Y_train)"
   ]
  },
  {
   "cell_type": "code",
   "execution_count": 13,
   "id": "88c187ee",
   "metadata": {},
   "outputs": [
    {
     "name": "stdout",
     "output_type": "stream",
     "text": [
      "Logistic regression using RBM features:\n",
      "               precision    recall  f1-score   support\n",
      "\n",
      "        Acura       0.00      0.00      0.00        17\n",
      "   Alfa Romeo       0.00      0.00      0.00        38\n",
      "         Audi       0.00      0.00      0.00       499\n",
      "          BMW       0.00      0.00      0.00       527\n",
      "        Buick       0.00      0.00      0.00         6\n",
      "     Cadillac       0.00      0.00      0.00        11\n",
      "        Chery       0.00      0.00      0.00        10\n",
      "    Chevrolet       0.00      0.00      0.00        96\n",
      "     Chrysler       0.00      0.00      0.00        76\n",
      "      Citroen       0.00      0.00      0.00       311\n",
      "        Dacia       0.00      0.00      0.00        14\n",
      "       Daewoo       0.00      0.00      0.00        45\n",
      "        Dodge       0.00      0.00      0.00        59\n",
      "         Fiat       0.00      0.00      0.00       191\n",
      "         Ford       0.00      0.00      0.00       483\n",
      "        Geely       0.00      0.00      0.00        17\n",
      "   Great Wall       0.00      0.00      0.00         6\n",
      "        Honda       0.00      0.00      0.00       159\n",
      "      Hyundai       0.00      0.00      0.00       242\n",
      "     Infiniti       0.00      0.00      0.00        36\n",
      "        Iveco       0.00      0.00      0.00        27\n",
      "       Jaguar       0.00      0.00      0.00         9\n",
      "         Jeep       0.00      0.00      0.00        16\n",
      "          Kia       0.00      0.00      0.00       198\n",
      "         LADA       0.00      0.00      0.00        31\n",
      "       Lancia       0.00      0.00      0.00        21\n",
      "   Land Rover       0.00      0.00      0.00        36\n",
      "        Lexus       0.00      0.00      0.00        35\n",
      "        Lifan       0.00      0.00      0.00         9\n",
      "      Lincoln       0.00      0.00      0.00         6\n",
      "        Mazda       0.00      0.00      0.00       261\n",
      "Mercedes-Benz       0.00      0.00      0.00       434\n",
      "         Mini       0.00      0.00      0.00        14\n",
      "   Mitsubishi       0.00      0.00      0.00       178\n",
      "       Nissan       0.00      0.00      0.00       252\n",
      "         Opel       0.00      0.00      0.00       532\n",
      "      Peugeot       0.00      0.00      0.00       384\n",
      "      Pontiac       0.00      0.00      0.00        10\n",
      "      Porsche       0.00      0.00      0.00        16\n",
      "      Renault       0.00      0.00      0.00       510\n",
      "        Rover       0.00      0.00      0.00        46\n",
      "         Saab       0.00      0.00      0.00        20\n",
      "         Seat       0.00      0.00      0.00        68\n",
      "        Skoda       0.00      0.00      0.00       219\n",
      "    SsangYong       0.00      0.00      0.00        12\n",
      "       Subaru       0.00      0.00      0.00        53\n",
      "       Suzuki       0.00      0.00      0.00        43\n",
      "       Toyota       0.00      0.00      0.00       262\n",
      "   Volkswagen       0.11      1.00      0.19       827\n",
      "        Volvo       0.00      0.00      0.00       159\n",
      "          ВАЗ       0.00      0.00      0.00       109\n",
      "          ГАЗ       0.00      0.00      0.00        31\n",
      "          ЗАЗ       0.00      0.00      0.00        11\n",
      "      Москвич       0.00      0.00      0.00         9\n",
      "          УАЗ       0.00      0.00      0.00        16\n",
      "\n",
      "     accuracy                           0.11      7707\n",
      "    macro avg       0.00      0.02      0.00      7707\n",
      " weighted avg       0.01      0.11      0.02      7707\n",
      "\n",
      "\n"
     ]
    },
    {
     "name": "stderr",
     "output_type": "stream",
     "text": [
      "C:\\Users\\z004ek3a\\Anaconda3\\envs\\tensorflow\\lib\\site-packages\\sklearn\\metrics\\_classification.py:1318: UndefinedMetricWarning: Precision and F-score are ill-defined and being set to 0.0 in labels with no predicted samples. Use `zero_division` parameter to control this behavior.\n",
      "  _warn_prf(average, modifier, msg_start, len(result))\n",
      "C:\\Users\\z004ek3a\\Anaconda3\\envs\\tensorflow\\lib\\site-packages\\sklearn\\metrics\\_classification.py:1318: UndefinedMetricWarning: Precision and F-score are ill-defined and being set to 0.0 in labels with no predicted samples. Use `zero_division` parameter to control this behavior.\n",
      "  _warn_prf(average, modifier, msg_start, len(result))\n",
      "C:\\Users\\z004ek3a\\Anaconda3\\envs\\tensorflow\\lib\\site-packages\\sklearn\\metrics\\_classification.py:1318: UndefinedMetricWarning: Precision and F-score are ill-defined and being set to 0.0 in labels with no predicted samples. Use `zero_division` parameter to control this behavior.\n",
      "  _warn_prf(average, modifier, msg_start, len(result))\n"
     ]
    }
   ],
   "source": [
    "Y_pred = rbm_features_classifier.predict(X_test)\n",
    "print(\n",
    "    \"Logistic regression using RBM features:\\n%s\\n\"\n",
    "    % (metrics.classification_report(Y_test, Y_pred))\n",
    ")"
   ]
  },
  {
   "cell_type": "code",
   "execution_count": 14,
   "id": "d483f219",
   "metadata": {},
   "outputs": [
    {
     "name": "stdout",
     "output_type": "stream",
     "text": [
      "Logistic regression using raw pixel features:\n",
      "               precision    recall  f1-score   support\n",
      "\n",
      "        Acura       0.00      0.00      0.00        17\n",
      "   Alfa Romeo       0.00      0.00      0.00        38\n",
      "         Audi       0.13      0.04      0.06       499\n",
      "          BMW       0.20      0.55      0.29       527\n",
      "        Buick       0.00      0.00      0.00         6\n",
      "     Cadillac       0.00      0.00      0.00        11\n",
      "        Chery       0.00      0.00      0.00        10\n",
      "    Chevrolet       0.00      0.00      0.00        96\n",
      "     Chrysler       0.00      0.00      0.00        76\n",
      "      Citroen       0.10      0.03      0.04       311\n",
      "        Dacia       0.00      0.00      0.00        14\n",
      "       Daewoo       0.00      0.00      0.00        45\n",
      "        Dodge       0.00      0.00      0.00        59\n",
      "         Fiat       0.00      0.00      0.00       191\n",
      "         Ford       0.03      0.00      0.00       483\n",
      "        Geely       0.00      0.00      0.00        17\n",
      "   Great Wall       0.00      0.00      0.00         6\n",
      "        Honda       0.00      0.00      0.00       159\n",
      "      Hyundai       0.00      0.00      0.00       242\n",
      "     Infiniti       0.00      0.00      0.00        36\n",
      "        Iveco       0.00      0.00      0.00        27\n",
      "       Jaguar       0.00      0.00      0.00         9\n",
      "         Jeep       0.00      0.00      0.00        16\n",
      "          Kia       0.09      0.02      0.03       198\n",
      "         LADA       0.00      0.00      0.00        31\n",
      "       Lancia       0.00      0.00      0.00        21\n",
      "   Land Rover       0.00      0.00      0.00        36\n",
      "        Lexus       0.00      0.00      0.00        35\n",
      "        Lifan       0.00      0.00      0.00         9\n",
      "      Lincoln       0.00      0.00      0.00         6\n",
      "        Mazda       0.00      0.00      0.00       261\n",
      "Mercedes-Benz       0.09      0.03      0.05       434\n",
      "         Mini       0.00      0.00      0.00        14\n",
      "   Mitsubishi       0.00      0.00      0.00       178\n",
      "       Nissan       0.00      0.00      0.00       252\n",
      "         Opel       0.15      0.16      0.15       532\n",
      "      Peugeot       0.00      0.00      0.00       384\n",
      "      Pontiac       0.00      0.00      0.00        10\n",
      "      Porsche       0.00      0.00      0.00        16\n",
      "      Renault       0.12      0.21      0.16       510\n",
      "        Rover       0.00      0.00      0.00        46\n",
      "         Saab       0.00      0.00      0.00        20\n",
      "         Seat       0.00      0.00      0.00        68\n",
      "        Skoda       0.00      0.00      0.00       219\n",
      "    SsangYong       0.00      0.00      0.00        12\n",
      "       Subaru       0.00      0.00      0.00        53\n",
      "       Suzuki       0.00      0.00      0.00        43\n",
      "       Toyota       0.00      0.00      0.00       262\n",
      "   Volkswagen       0.14      0.72      0.23       827\n",
      "        Volvo       0.00      0.00      0.00       159\n",
      "          ВАЗ       0.00      0.00      0.00       109\n",
      "          ГАЗ       0.00      0.00      0.00        31\n",
      "          ЗАЗ       0.00      0.00      0.00        11\n",
      "      Москвич       0.00      0.00      0.00         9\n",
      "          УАЗ       0.00      0.00      0.00        16\n",
      "\n",
      "     accuracy                           0.15      7707\n",
      "    macro avg       0.02      0.03      0.02      7707\n",
      " weighted avg       0.07      0.15      0.07      7707\n",
      "\n",
      "\n"
     ]
    },
    {
     "name": "stderr",
     "output_type": "stream",
     "text": [
      "C:\\Users\\z004ek3a\\Anaconda3\\envs\\tensorflow\\lib\\site-packages\\sklearn\\metrics\\_classification.py:1318: UndefinedMetricWarning: Precision and F-score are ill-defined and being set to 0.0 in labels with no predicted samples. Use `zero_division` parameter to control this behavior.\n",
      "  _warn_prf(average, modifier, msg_start, len(result))\n",
      "C:\\Users\\z004ek3a\\Anaconda3\\envs\\tensorflow\\lib\\site-packages\\sklearn\\metrics\\_classification.py:1318: UndefinedMetricWarning: Precision and F-score are ill-defined and being set to 0.0 in labels with no predicted samples. Use `zero_division` parameter to control this behavior.\n",
      "  _warn_prf(average, modifier, msg_start, len(result))\n",
      "C:\\Users\\z004ek3a\\Anaconda3\\envs\\tensorflow\\lib\\site-packages\\sklearn\\metrics\\_classification.py:1318: UndefinedMetricWarning: Precision and F-score are ill-defined and being set to 0.0 in labels with no predicted samples. Use `zero_division` parameter to control this behavior.\n",
      "  _warn_prf(average, modifier, msg_start, len(result))\n"
     ]
    }
   ],
   "source": [
    "Y_pred = raw_pixel_classifier.predict(X_test)\n",
    "print(\n",
    "    \"Logistic regression using raw pixel features:\\n%s\\n\"\n",
    "    % (metrics.classification_report(Y_test, Y_pred))\n",
    ")"
   ]
  },
  {
   "cell_type": "markdown",
   "id": "e30773e1",
   "metadata": {},
   "source": [
    "# ---------------------------------------------"
   ]
  },
  {
   "cell_type": "code",
   "execution_count": 15,
   "id": "a1e7fa71",
   "metadata": {},
   "outputs": [
    {
     "data": {
      "text/plain": [
       "(array(['Renault'], dtype=object), array(['Opel'], dtype=object))"
      ]
     },
     "execution_count": 15,
     "metadata": {},
     "output_type": "execute_result"
    }
   ],
   "source": [
    "Y_pred = raw_pixel_classifier.predict(X_test[0].reshape(1,-1))\n",
    "Y_pred, Y_test[0]"
   ]
  },
  {
   "cell_type": "code",
   "execution_count": 16,
   "id": "660e93b5",
   "metadata": {},
   "outputs": [
    {
     "data": {
      "text/plain": [
       "array(['Opel'], dtype=object)"
      ]
     },
     "execution_count": 16,
     "metadata": {},
     "output_type": "execute_result"
    }
   ],
   "source": [
    "Y_test[0]"
   ]
  },
  {
   "cell_type": "code",
   "execution_count": 17,
   "id": "735b0762",
   "metadata": {},
   "outputs": [
    {
     "data": {
      "text/plain": [
       "(array([['Opel'],\n",
       "        ['Audi'],\n",
       "        ['Nissan'],\n",
       "        ...,\n",
       "        ['Chevrolet'],\n",
       "        ['BMW'],\n",
       "        ['ВАЗ']], dtype=object),\n",
       " 7707)"
      ]
     },
     "execution_count": 17,
     "metadata": {},
     "output_type": "execute_result"
    }
   ],
   "source": [
    "Y_test, len(Y_test) "
   ]
  },
  {
   "cell_type": "code",
   "execution_count": 18,
   "id": "b96d0021",
   "metadata": {},
   "outputs": [
    {
     "data": {
      "text/plain": [
       "(array(['Audi'], dtype=object),\n",
       " array(['Nissan'], dtype=object),\n",
       " array(['Skoda'], dtype=object),\n",
       " array(['Mercedes-Benz'], dtype=object),\n",
       " array(['Audi'], dtype=object),\n",
       " array(['Renault'], dtype=object),\n",
       " array(['Mercedes-Benz'], dtype=object),\n",
       " array(['Skoda'], dtype=object),\n",
       " array(['Ford'], dtype=object),\n",
       " array(['Skoda'], dtype=object))"
      ]
     },
     "execution_count": 18,
     "metadata": {},
     "output_type": "execute_result"
    }
   ],
   "source": [
    "#Top 10 most recent CMD leading up to the consequents will then be compared to the ground truth consequents\n",
    "X_test[1]\n",
    "X_test[2]\n",
    "X_test[3]\n",
    "X_test[4]\n",
    "X_test[5]\n",
    "X_test[6]\n",
    "X_test[7]\n",
    "X_test[8]\n",
    "X_test[9]\n",
    "X_test[10]\n",
    "\n",
    "Y_pred_1 = raw_pixel_classifier.predict(X_test[1].reshape(1,-1))\n",
    "Y_pred_2 = raw_pixel_classifier.predict(X_test[2].reshape(1,-1))\n",
    "Y_pred_3 = raw_pixel_classifier.predict(X_test[3].reshape(1,-1))\n",
    "Y_pred_4 = raw_pixel_classifier.predict(X_test[4].reshape(1,-1))\n",
    "Y_pred_5 = raw_pixel_classifier.predict(X_test[5].reshape(1,-1))\n",
    "Y_pred_6 = raw_pixel_classifier.predict(X_test[6].reshape(1,-1))\n",
    "Y_pred_7 = raw_pixel_classifier.predict(X_test[7].reshape(1,-1))\n",
    "Y_pred_8 = raw_pixel_classifier.predict(X_test[8].reshape(1,-1))\n",
    "Y_pred_9 = raw_pixel_classifier.predict(X_test[9].reshape(1,-1))\n",
    "Y_pred_10 = raw_pixel_classifier.predict(X_test[10].reshape(1,-1))\n",
    "Y_pred_1, Y_pred_2, Y_pred_3, Y_pred_4, Y_pred_5, Y_pred_6, Y_pred_7, Y_pred_8, Y_pred_9, Y_pred_10\n",
    "Y_test[1], Y_test[2], Y_test[3], Y_test[4], Y_test[5], Y_test[6], Y_test[7], Y_test[8], Y_test[9], Y_test[10]\n",
    "#obtain 10 F1-scores and choose the top 5"
   ]
  },
  {
   "cell_type": "code",
   "execution_count": 19,
   "id": "cbd7e079",
   "metadata": {},
   "outputs": [],
   "source": [
    "#compare the top 1,2,3,4,5 with Y_pred"
   ]
  },
  {
   "cell_type": "code",
   "execution_count": 20,
   "id": "2970818a",
   "metadata": {},
   "outputs": [
    {
     "name": "stdout",
     "output_type": "stream",
     "text": [
      "Skipping, found downloaded files in \".\\daily-climate-time-series-data\" (use force=True to force download)\n"
     ]
    }
   ],
   "source": [
    "od.download(\"https://www.kaggle.com/sumanthvrao/daily-climate-time-series-data\")"
   ]
  },
  {
   "cell_type": "code",
   "execution_count": 21,
   "id": "fa243a83",
   "metadata": {},
   "outputs": [],
   "source": [
    "csv_train = \"./daily-climate-time-series-data/DailyDelhiClimateTrain.csv\"\n",
    "csv_test = \"./daily-climate-time-series-data/DailyDelhiClimateTest.csv\"\n",
    "df_train = pd.read_csv(csv_train)\n",
    "df_test = pd.read_csv(csv_test)"
   ]
  },
  {
   "cell_type": "code",
   "execution_count": 22,
   "id": "ed49069c",
   "metadata": {},
   "outputs": [
    {
     "data": {
      "text/html": [
       "<div>\n",
       "<style scoped>\n",
       "    .dataframe tbody tr th:only-of-type {\n",
       "        vertical-align: middle;\n",
       "    }\n",
       "\n",
       "    .dataframe tbody tr th {\n",
       "        vertical-align: top;\n",
       "    }\n",
       "\n",
       "    .dataframe thead th {\n",
       "        text-align: right;\n",
       "    }\n",
       "</style>\n",
       "<table border=\"1\" class=\"dataframe\">\n",
       "  <thead>\n",
       "    <tr style=\"text-align: right;\">\n",
       "      <th></th>\n",
       "      <th>date</th>\n",
       "      <th>meantemp</th>\n",
       "      <th>humidity</th>\n",
       "      <th>wind_speed</th>\n",
       "      <th>meanpressure</th>\n",
       "    </tr>\n",
       "  </thead>\n",
       "  <tbody>\n",
       "    <tr>\n",
       "      <th>0</th>\n",
       "      <td>2013-01-01</td>\n",
       "      <td>10.000000</td>\n",
       "      <td>84.500000</td>\n",
       "      <td>0.000000</td>\n",
       "      <td>1015.666667</td>\n",
       "    </tr>\n",
       "    <tr>\n",
       "      <th>1</th>\n",
       "      <td>2013-01-02</td>\n",
       "      <td>7.400000</td>\n",
       "      <td>92.000000</td>\n",
       "      <td>2.980000</td>\n",
       "      <td>1017.800000</td>\n",
       "    </tr>\n",
       "    <tr>\n",
       "      <th>2</th>\n",
       "      <td>2013-01-03</td>\n",
       "      <td>7.166667</td>\n",
       "      <td>87.000000</td>\n",
       "      <td>4.633333</td>\n",
       "      <td>1018.666667</td>\n",
       "    </tr>\n",
       "    <tr>\n",
       "      <th>3</th>\n",
       "      <td>2013-01-04</td>\n",
       "      <td>8.666667</td>\n",
       "      <td>71.333333</td>\n",
       "      <td>1.233333</td>\n",
       "      <td>1017.166667</td>\n",
       "    </tr>\n",
       "    <tr>\n",
       "      <th>4</th>\n",
       "      <td>2013-01-05</td>\n",
       "      <td>6.000000</td>\n",
       "      <td>86.833333</td>\n",
       "      <td>3.700000</td>\n",
       "      <td>1016.500000</td>\n",
       "    </tr>\n",
       "  </tbody>\n",
       "</table>\n",
       "</div>"
      ],
      "text/plain": [
       "         date   meantemp   humidity  wind_speed  meanpressure\n",
       "0  2013-01-01  10.000000  84.500000    0.000000   1015.666667\n",
       "1  2013-01-02   7.400000  92.000000    2.980000   1017.800000\n",
       "2  2013-01-03   7.166667  87.000000    4.633333   1018.666667\n",
       "3  2013-01-04   8.666667  71.333333    1.233333   1017.166667\n",
       "4  2013-01-05   6.000000  86.833333    3.700000   1016.500000"
      ]
     },
     "execution_count": 22,
     "metadata": {},
     "output_type": "execute_result"
    }
   ],
   "source": [
    "df_train.head()"
   ]
  },
  {
   "cell_type": "code",
   "execution_count": 23,
   "id": "f1a3f5a3",
   "metadata": {},
   "outputs": [
    {
     "data": {
      "image/png": "[encoded data removed]",
      "text/plain": [
       "<Figure size 720x432 with 1 Axes>"
      ]
     },
     "metadata": {
      "needs_background": "light"
     },
     "output_type": "display_data"
    }
   ],
   "source": [
    "import matplotlib.pyplot as plt\n",
    "\n",
    "plt.rc('font', size=12)\n",
    "fig, ax = plt.subplots(figsize=(10, 6))\n",
    "\n",
    "# Specify how our lines should look\n",
    "ax.plot(df_train.date, df_train.wind_speed, color='tab:orange', label='Windspeed')\n",
    "\n",
    "# Same as above\n",
    "ax.set_xlabel('Date')\n",
    "ax.set_ylabel('Speed (m/s)')\n",
    "ax.set_title('Wind Data')\n",
    "ax.grid(True)\n",
    "ax.legend(loc='upper left');"
   ]
  },
  {
   "cell_type": "code",
   "execution_count": 24,
   "id": "91cf14ed",
   "metadata": {},
   "outputs": [],
   "source": [
    "from sklearn.preprocessing import KBinsDiscretizer"
   ]
  },
  {
   "cell_type": "code",
   "execution_count": 25,
   "id": "884cf1f4",
   "metadata": {},
   "outputs": [],
   "source": [
    "est = KBinsDiscretizer(n_bins = 3, encode='ordinal', strategy='uniform')"
   ]
  },
  {
   "cell_type": "code",
   "execution_count": 26,
   "id": "dfd39e85",
   "metadata": {},
   "outputs": [
    {
     "data": {
      "text/plain": [
       "KBinsDiscretizer(encode='ordinal', n_bins=3, strategy='uniform')"
      ]
     },
     "execution_count": 26,
     "metadata": {},
     "output_type": "execute_result"
    }
   ],
   "source": [
    "df_train = df_train.drop([\"date\", \"meanpressure\", \"humidity\", \"meantemp\"], axis = 1)\n",
    "est.fit(df_train)"
   ]
  },
  {
   "cell_type": "code",
   "execution_count": 27,
   "id": "b7068b0c",
   "metadata": {},
   "outputs": [
    {
     "data": {
      "text/html": [
       "<div>\n",
       "<style scoped>\n",
       "    .dataframe tbody tr th:only-of-type {\n",
       "        vertical-align: middle;\n",
       "    }\n",
       "\n",
       "    .dataframe tbody tr th {\n",
       "        vertical-align: top;\n",
       "    }\n",
       "\n",
       "    .dataframe thead th {\n",
       "        text-align: right;\n",
       "    }\n",
       "</style>\n",
       "<table border=\"1\" class=\"dataframe\">\n",
       "  <thead>\n",
       "    <tr style=\"text-align: right;\">\n",
       "      <th></th>\n",
       "      <th>wind_speed</th>\n",
       "    </tr>\n",
       "  </thead>\n",
       "  <tbody>\n",
       "    <tr>\n",
       "      <th>0</th>\n",
       "      <td>0.000000</td>\n",
       "    </tr>\n",
       "    <tr>\n",
       "      <th>1</th>\n",
       "      <td>2.980000</td>\n",
       "    </tr>\n",
       "    <tr>\n",
       "      <th>2</th>\n",
       "      <td>4.633333</td>\n",
       "    </tr>\n",
       "    <tr>\n",
       "      <th>3</th>\n",
       "      <td>1.233333</td>\n",
       "    </tr>\n",
       "    <tr>\n",
       "      <th>4</th>\n",
       "      <td>3.700000</td>\n",
       "    </tr>\n",
       "    <tr>\n",
       "      <th>...</th>\n",
       "      <td>...</td>\n",
       "    </tr>\n",
       "    <tr>\n",
       "      <th>1457</th>\n",
       "      <td>3.547826</td>\n",
       "    </tr>\n",
       "    <tr>\n",
       "      <th>1458</th>\n",
       "      <td>6.000000</td>\n",
       "    </tr>\n",
       "    <tr>\n",
       "      <th>1459</th>\n",
       "      <td>6.266667</td>\n",
       "    </tr>\n",
       "    <tr>\n",
       "      <th>1460</th>\n",
       "      <td>7.325000</td>\n",
       "    </tr>\n",
       "    <tr>\n",
       "      <th>1461</th>\n",
       "      <td>0.000000</td>\n",
       "    </tr>\n",
       "  </tbody>\n",
       "</table>\n",
       "<p>1462 rows × 1 columns</p>\n",
       "</div>"
      ],
      "text/plain": [
       "      wind_speed\n",
       "0       0.000000\n",
       "1       2.980000\n",
       "2       4.633333\n",
       "3       1.233333\n",
       "4       3.700000\n",
       "...          ...\n",
       "1457    3.547826\n",
       "1458    6.000000\n",
       "1459    6.266667\n",
       "1460    7.325000\n",
       "1461    0.000000\n",
       "\n",
       "[1462 rows x 1 columns]"
      ]
     },
     "execution_count": 27,
     "metadata": {},
     "output_type": "execute_result"
    }
   ],
   "source": [
    "Xt = est.transform(df_train)\n",
    "df_train"
   ]
  },
  {
   "cell_type": "code",
   "execution_count": 28,
   "id": "089fc614",
   "metadata": {},
   "outputs": [
    {
     "data": {
      "text/plain": [
       "array([[0.],\n",
       "       [0.],\n",
       "       [0.],\n",
       "       ...,\n",
       "       [0.],\n",
       "       [0.],\n",
       "       [0.]])"
      ]
     },
     "execution_count": 28,
     "metadata": {},
     "output_type": "execute_result"
    }
   ],
   "source": [
    "Xt"
   ]
  },
  {
   "cell_type": "code",
   "execution_count": null,
   "id": "86f513c8",
   "metadata": {},
   "outputs": [],
   "source": []
  }
 ],
 "metadata": {
  "kernelspec": {
   "display_name": "Python 3",
   "language": "python",
   "name": "python3"
  },
  "language_info": {
   "codemirror_mode": {
    "name": "ipython",
    "version": 3
   },
   "file_extension": ".py",
   "mimetype": "text/x-python",
   "name": "python",
   "nbconvert_exporter": "python",
   "pygments_lexer": "ipython3",
   "version": "3.7.11"
  }
 },
 "nbformat": 4,
 "nbformat_minor": 5
}
